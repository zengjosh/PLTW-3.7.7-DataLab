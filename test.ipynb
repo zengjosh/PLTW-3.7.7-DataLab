{
 "cells": [
  {
   "cell_type": "code",
   "execution_count": 1,
   "metadata": {},
   "outputs": [
    {
     "name": "stdout",
     "output_type": "stream",
     "text": [
      "0      6\n",
      "1      8\n",
      "2      5\n",
      "3      0\n",
      "4      8\n",
      "      ..\n",
      "72     3\n",
      "73    12\n",
      "74     3\n",
      "75     3\n",
      "76     8\n",
      "Name: Sugar, Length: 77, dtype: int64\n"
     ]
    }
   ],
   "source": [
    "import pandas as pd\n",
    "\n",
    "df = pd.read_csv('Copy of Cereal.csv')\n",
    "\n",
    "sugar = df.Sugar\n",
    "print(sugar)\n",
    "\n",
    "\n"
   ]
  }
 ],
 "metadata": {
  "kernelspec": {
   "display_name": "Python 3",
   "language": "python",
   "name": "python3"
  },
  "language_info": {
   "codemirror_mode": {
    "name": "ipython",
    "version": 3
   },
   "file_extension": ".py",
   "mimetype": "text/x-python",
   "name": "python",
   "nbconvert_exporter": "python",
   "pygments_lexer": "ipython3",
   "version": "3.11.7"
  }
 },
 "nbformat": 4,
 "nbformat_minor": 2
}
